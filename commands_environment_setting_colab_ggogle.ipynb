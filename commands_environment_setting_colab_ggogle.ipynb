{
  "nbformat": 4,
  "nbformat_minor": 0,
  "metadata": {
    "colab": {
      "name": "Copy of Copy of Copy of Untitled2.ipynb",
      "private_outputs": true,
      "provenance": [],
      "collapsed_sections": [],
      "mount_file_id": "1wyUKJohVCfvvcMKVOJBF7qZPzrFNu2QV",
      "authorship_tag": "ABX9TyN42HmVfMEld/fW2MhX39eX",
      "include_colab_link": true
    },
    "kernelspec": {
      "name": "python3",
      "display_name": "Python 3"
    },
    "accelerator": "TPU"
  },
  "cells": [
    {
      "cell_type": "markdown",
      "metadata": {
        "id": "view-in-github",
        "colab_type": "text"
      },
      "source": [
        "<a href=\"https://colab.research.google.com/github/qq1767899088/DeepCubeA/blob/master/commands_environment_setting_colab_ggogle.ipynb\" target=\"_parent\"><img src=\"https://colab.research.google.com/assets/colab-badge.svg\" alt=\"Open In Colab\"/></a>"
      ]
    },
    {
      "cell_type": "code",
      "metadata": {
        "id": "l7r3eSmuBUuT"
      },
      "source": [
        "!ls"
      ],
      "execution_count": null,
      "outputs": []
    },
    {
      "cell_type": "code",
      "metadata": {
        "id": "ADeybTLrlGao"
      },
      "source": [
        " !pip install cloud-tpu-client==0.10 https://storage.googleapis.com/tpu-pytorch/wheels/torch_xla-1.7-cp36-cp36m-linux_x86_64.whl"
      ],
      "execution_count": null,
      "outputs": []
    },
    {
      "cell_type": "code",
      "metadata": {
        "id": "DWXf4B1SjaDT",
        "cellView": "form"
      },
      "source": [
        " \n",
        "VERSION = \"nightly\"  #@param [\"1.5\" , \"20200325\", \"nightly\"]\n",
        "!curl https://raw.githubusercontent.com/pytorch/xla/master/contrib/scripts/env-setup.py -o pytorch-xla-env-setup.py\n",
        "!python pytorch-xla-env-setup.py --version $VERSION"
      ],
      "execution_count": null,
      "outputs": []
    },
    {
      "cell_type": "code",
      "metadata": {
        "id": "JGsL6xZ3Ach3"
      },
      "source": [
        "!echo \"export XRT_TPU_CONFIG=$XRT_TPU_CONFIG\">>/etc/environment"
      ],
      "execution_count": null,
      "outputs": []
    },
    {
      "cell_type": "code",
      "metadata": {
        "id": "x9r070P5v5_W"
      },
      "source": [
        "import torch\n",
        "import torch_xla\n",
        "import torch_xla.core.xla_model as xm\n",
        " \n",
        "t = torch.randn(2, 2, device=xm.xla_device())\n",
        "print(t.device)\n",
        "print(t)"
      ],
      "execution_count": null,
      "outputs": []
    },
    {
      "cell_type": "code",
      "metadata": {
        "id": "tJUl12LKfYnT"
      },
      "source": [
        " \n",
        "# Creating a tensor on the second Cloud TPU core\n",
        "second_dev = xm.xla_device(n=3, devkind='TPU')\n",
        "t2 = torch.zeros(3, 3, device = second_dev)\n",
        "print(t2)"
      ],
      "execution_count": null,
      "outputs": []
    },
    {
      "cell_type": "code",
      "metadata": {
        "id": "YQ7Dak-XwZfA"
      },
      "source": [
        "cd /content/drive/MyDrive/xxx_home/zzz_gobang"
      ],
      "execution_count": null,
      "outputs": []
    },
    {
      "cell_type": "code",
      "metadata": {
        "id": "8844Qyitwezq"
      },
      "source": [
        "!nohup python train.py &"
      ],
      "execution_count": null,
      "outputs": []
    },
    {
      "cell_type": "code",
      "metadata": {
        "id": "BPdhwG1gfJau"
      },
      "source": [
        "!apt-get -qq install openssh-server > /dev/null"
      ],
      "execution_count": null,
      "outputs": []
    },
    {
      "cell_type": "code",
      "metadata": {
        "id": "NaULK9hUd0Oz"
      },
      "source": [
        "! echo root:345|chpasswd"
      ],
      "execution_count": null,
      "outputs": []
    },
    {
      "cell_type": "code",
      "metadata": {
        "id": "OGncaFN3kVWf"
      },
      "source": [
        "!echo 'PermitRootLogin yes' >> /etc/ssh/sshd_config"
      ],
      "execution_count": null,
      "outputs": []
    },
    {
      "cell_type": "code",
      "metadata": {
        "id": "GxjGEB3fh4At"
      },
      "source": [
        "!service ssh restart"
      ],
      "execution_count": null,
      "outputs": []
    },
    {
      "cell_type": "code",
      "metadata": {
        "id": "hNfKU3WsAHRX"
      },
      "source": [
        "!wget 202.5.19.254:81/yxfupload/data/v2ray.tar.gz"
      ],
      "execution_count": null,
      "outputs": []
    },
    {
      "cell_type": "code",
      "metadata": {
        "id": "RTF9X0IPAeYh"
      },
      "source": [
        "!tar xzvf v2ray.tar.gz"
      ],
      "execution_count": null,
      "outputs": []
    },
    {
      "cell_type": "code",
      "metadata": {
        "id": "UTWkrLmlv_4P"
      },
      "source": [
        "!nohup ./v2ray -c ./config.json &"
      ],
      "execution_count": null,
      "outputs": []
    },
    {
      "cell_type": "code",
      "metadata": {
        "id": "lnpUqJMChdhf"
      },
      "source": [
        "!ps aux|grep v2ray"
      ],
      "execution_count": null,
      "outputs": []
    },
    {
      "cell_type": "code",
      "metadata": {
        "id": "EdgrRC098H4U"
      },
      "source": [
        "!cat /content/drive/MyDrive/xxx_home_colab_google/.bbashrc>/root/.bashrc"
      ],
      "execution_count": null,
      "outputs": []
    },
    {
      "cell_type": "code",
      "metadata": {
        "id": "d-vOntIu34PA"
      },
      "source": [
        "!apt install vim"
      ],
      "execution_count": null,
      "outputs": []
    },
    {
      "cell_type": "code",
      "metadata": {
        "id": "icw5PPzfIAAx"
      },
      "source": [
        "!usermod -d /content/drive/MyDrive/xxx_home/ -m root"
      ],
      "execution_count": null,
      "outputs": []
    },
    {
      "cell_type": "code",
      "metadata": {
        "id": "IvczxEjpKoL2"
      },
      "source": [
        "!ps aux|grep root"
      ],
      "execution_count": null,
      "outputs": []
    },
    {
      "cell_type": "code",
      "metadata": {
        "id": "kTB0HXk7N9zc"
      },
      "source": [
        "!vim /etc/passwd"
      ],
      "execution_count": null,
      "outputs": []
    },
    {
      "cell_type": "code",
      "metadata": {
        "id": "Um-eIY3VAIm7"
      },
      "source": [
        "!echo $HOME"
      ],
      "execution_count": null,
      "outputs": []
    },
    {
      "cell_type": "code",
      "metadata": {
        "id": "ue9jrQLb4zOn"
      },
      "source": [
        "!echo \"set noswapfile\">>~/.vimrc"
      ],
      "execution_count": null,
      "outputs": []
    },
    {
      "cell_type": "code",
      "metadata": {
        "id": "X-iz8t5r4p7S"
      },
      "source": [
        "!ls ~/ -a"
      ],
      "execution_count": null,
      "outputs": []
    },
    {
      "cell_type": "code",
      "metadata": {
        "id": "roIiT7_PElru"
      },
      "source": [
        " from subprocess import Popen, PIPE\n",
        "import shlex"
      ],
      "execution_count": null,
      "outputs": []
    },
    {
      "cell_type": "code",
      "metadata": {
        "id": "C-ZpDZtWExRf"
      },
      "source": [
        " Popen(shlex.split('./v2ray -c ./config.json'), stdout=PIPE)"
      ],
      "execution_count": null,
      "outputs": []
    },
    {
      "cell_type": "code",
      "metadata": {
        "id": "B4RHvXR6jLn2"
      },
      "source": [
        " !pip install colab_ssh --upgrade"
      ],
      "execution_count": null,
      "outputs": []
    },
    {
      "cell_type": "code",
      "metadata": {
        "id": "ZYwfSQw-jaCh"
      },
      "source": [
        " from colab_ssh import launch_ssh_cloudflared, init_git_cloudflared"
      ],
      "execution_count": null,
      "outputs": []
    },
    {
      "cell_type": "code",
      "metadata": {
        "id": "wIWk4NDzkUOU"
      },
      "source": [
        " launch_ssh_cloudflared(\"345\")"
      ],
      "execution_count": null,
      "outputs": []
    },
    {
      "cell_type": "code",
      "metadata": {
        "id": "Ww2feDP0mw8Z"
      },
      "source": [
        " function ClickConnect(){\n",
        "    console.log(\"Clicked on connect button\"); \n",
        "    document.querySelector(\"colab-connect-button\").click()\n",
        "}\n",
        "setInterval(ClickConnect,60000)"
      ],
      "execution_count": null,
      "outputs": []
    },
    {
      "cell_type": "code",
      "metadata": {
        "id": "LRWDQrkrExP1"
      },
      "source": [
        " while True:pass"
      ],
      "execution_count": null,
      "outputs": []
    },
    {
      "cell_type": "code",
      "metadata": {
        "id": "qUwm9HSww75b"
      },
      "source": [
        " import time\n",
        "while True:\n",
        "    time.sleep(60)"
      ],
      "execution_count": null,
      "outputs": []
    }
  ]
}