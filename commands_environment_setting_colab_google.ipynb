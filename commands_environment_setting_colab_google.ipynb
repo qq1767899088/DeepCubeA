{
  "nbformat": 4,
  "nbformat_minor": 0,
  "metadata": {
    "colab": {
      "name": "commands_environment_setting_colab_google.ipynb",
      "provenance": [],
      "collapsed_sections": [],
      "mount_file_id": "1wyUKJohVCfvvcMKVOJBF7qZPzrFNu2QV",
      "authorship_tag": "ABX9TyMUqXrjx3YPpSqXXM8tKrr+",
      "include_colab_link": true
    },
    "kernelspec": {
      "name": "python3",
      "display_name": "Python 3"
    },
    "accelerator": "GPU"
  },
  "cells": [
    {
      "cell_type": "markdown",
      "metadata": {
        "id": "view-in-github",
        "colab_type": "text"
      },
      "source": [
        "<a href=\"https://colab.research.google.com/github/qq1767899088/DeepCubeA/blob/master/commands_environment_setting_colab_google.ipynb\" target=\"_parent\"><img src=\"https://colab.research.google.com/assets/colab-badge.svg\" alt=\"Open In Colab\"/></a>"
      ]
    },
    {
      "cell_type": "code",
      "metadata": {
        "id": "l7r3eSmuBUuT",
        "colab": {
          "base_uri": "https://localhost:8080/"
        },
        "outputId": "a6c6eee8-b440-4ad3-8b29-95a4b61a8983"
      },
      "source": [
        "!ls"
      ],
      "execution_count": null,
      "outputs": [
        {
          "output_type": "stream",
          "name": "stdout",
          "text": [
            "drive  sample_data\n"
          ]
        }
      ]
    },
    {
      "cell_type": "code",
      "metadata": {
        "id": "ADeybTLrlGao"
      },
      "source": [
        " !pip install cloud-tpu-client==0.10 https://storage.googleapis.com/tpu-pytorch/wheels/torch_xla-1.7-cp36-cp36m-linux_x86_64.whl"
      ],
      "execution_count": null,
      "outputs": []
    },
    {
      "cell_type": "code",
      "metadata": {
        "id": "DWXf4B1SjaDT",
        "cellView": "form"
      },
      "source": [
        ""
      ],
      "execution_count": null,
      "outputs": []
    },
    {
      "cell_type": "code",
      "metadata": {
        "id": "JGsL6xZ3Ach3"
      },
      "source": [
        "!echo \"export XRT_TPU_CONFIG=$XRT_TPU_CONFIG\">>/etc/environment"
      ],
      "execution_count": null,
      "outputs": []
    },
    {
      "cell_type": "code",
      "metadata": {
        "id": "x9r070P5v5_W"
      },
      "source": [
        "import torch\n",
        "import torch_xla\n",
        "import torch_xla.core.xla_model as xm\n",
        " \n",
        "t = torch.randn(2, 2, device=xm.xla_device())\n",
        "print(t.device)\n",
        "print(t)"
      ],
      "execution_count": null,
      "outputs": []
    },
    {
      "cell_type": "code",
      "metadata": {
        "id": "tJUl12LKfYnT"
      },
      "source": [
        "# Creating a tensor on the second Cloud TPU core\n",
        "second_dev = xm.xla_device(n=3, devkind='TPU')\n",
        "t2 = torch.zeros(3, 3, device = second_dev)\n",
        "print(t2)"
      ],
      "execution_count": null,
      "outputs": []
    },
    {
      "cell_type": "code",
      "metadata": {
        "id": "YQ7Dak-XwZfA"
      },
      "source": [
        "cd /content/drive/MyDrive/xxx_home/zzz_gobang"
      ],
      "execution_count": null,
      "outputs": []
    },
    {
      "cell_type": "code",
      "metadata": {
        "id": "8844Qyitwezq"
      },
      "source": [
        "!nohup python train.py &"
      ],
      "execution_count": null,
      "outputs": []
    },
    {
      "cell_type": "markdown",
      "metadata": {
        "id": "hqThl63LnMKd"
      },
      "source": [
        "# New Section"
      ]
    },
    {
      "cell_type": "code",
      "metadata": {
        "id": "BPdhwG1gfJau"
      },
      "source": [
        "!apt-get -qq install openssh-server > /dev/null"
      ],
      "execution_count": null,
      "outputs": []
    },
    {
      "cell_type": "code",
      "metadata": {
        "id": "NaULK9hUd0Oz"
      },
      "source": [
        "! echo root:345|chpasswd"
      ],
      "execution_count": null,
      "outputs": []
    },
    {
      "cell_type": "markdown",
      "metadata": {
        "id": "C5awG3ZiVBmV"
      },
      "source": [
        ""
      ]
    },
    {
      "cell_type": "code",
      "metadata": {
        "id": "OGncaFN3kVWf"
      },
      "source": [
        "!echo 'PermitRootLogin yes' >> /etc/ssh/sshd_config"
      ],
      "execution_count": null,
      "outputs": []
    },
    {
      "cell_type": "code",
      "metadata": {
        "id": "GxjGEB3fh4At",
        "colab": {
          "base_uri": "https://localhost:8080/"
        },
        "outputId": "1da4d13e-0120-4eba-ece6-0f50f2842d3c"
      },
      "source": [
        "!service ssh restart"
      ],
      "execution_count": null,
      "outputs": [
        {
          "output_type": "stream",
          "name": "stdout",
          "text": [
            " * Restarting OpenBSD Secure Shell server sshd\n",
            "   ...done.\n"
          ]
        }
      ]
    },
    {
      "cell_type": "code",
      "metadata": {
        "id": "hNfKU3WsAHRX",
        "colab": {
          "base_uri": "https://localhost:8080/"
        },
        "outputId": "80401b07-69fb-4cd4-e665-cd5cac617f43"
      },
      "source": [
        "!wget data.mortalitylady.com/v2ray.tar.gz"
      ],
      "execution_count": null,
      "outputs": [
        {
          "output_type": "stream",
          "name": "stdout",
          "text": [
            "--2021-09-28 07:37:25--  http://data.mortalitylady.com/v2ray.tar.gz\n",
            "Resolving data.mortalitylady.com (data.mortalitylady.com)... 172.67.209.23, 104.21.58.222, 2606:4700:3033::6815:3ade, ...\n",
            "Connecting to data.mortalitylady.com (data.mortalitylady.com)|172.67.209.23|:80... connected.\n",
            "HTTP request sent, awaiting response... 301 Moved Permanently\n",
            "Location: https://data.mortalitylady.com/v2ray.tar.gz [following]\n",
            "--2021-09-28 07:37:26--  https://data.mortalitylady.com/v2ray.tar.gz\n",
            "Connecting to data.mortalitylady.com (data.mortalitylady.com)|172.67.209.23|:443... connected.\n",
            "HTTP request sent, awaiting response... 200 OK\n",
            "Length: 8109764 (7.7M) [application/x-gzip]\n",
            "Saving to: ‘v2ray.tar.gz’\n",
            "\n",
            "v2ray.tar.gz        100%[===================>]   7.73M  17.6MB/s    in 0.4s    \n",
            "\n",
            "2021-09-28 07:37:27 (17.6 MB/s) - ‘v2ray.tar.gz’ saved [8109764/8109764]\n",
            "\n"
          ]
        }
      ]
    },
    {
      "cell_type": "code",
      "metadata": {
        "id": "RTF9X0IPAeYh",
        "colab": {
          "base_uri": "https://localhost:8080/"
        },
        "outputId": "4104a9cf-9651-4c4e-fe62-f69a1d6cc715"
      },
      "source": [
        "!tar xzvf v2ray.tar.gz"
      ],
      "execution_count": null,
      "outputs": [
        {
          "output_type": "stream",
          "name": "stdout",
          "text": [
            "v2ray/\n",
            "v2ray/geosite.dat\n",
            "v2ray/v2ray\n",
            "v2ray/bridge_config.json\n",
            "v2ray/portal_config.json\n",
            "v2ray/nohup.out\n",
            "v2ray/geoip.dat\n"
          ]
        }
      ]
    },
    {
      "cell_type": "code",
      "metadata": {
        "id": "UTWkrLmlv_4P",
        "colab": {
          "base_uri": "https://localhost:8080/"
        },
        "outputId": "e0ca0aa2-d5f8-4403-a83c-60a9a94400af"
      },
      "source": [
        "!nohup ./v2ray/v2ray -c ./v2ray/bridge_config.json &"
      ],
      "execution_count": null,
      "outputs": [
        {
          "output_type": "stream",
          "name": "stdout",
          "text": [
            "nohup: appending output to 'nohup.out'\n"
          ]
        }
      ]
    },
    {
      "cell_type": "code",
      "metadata": {
        "id": "lnpUqJMChdhf",
        "colab": {
          "base_uri": "https://localhost:8080/"
        },
        "outputId": "e1e15993-3a4c-4545-c31f-3680cbca64c5"
      },
      "source": [
        "!ps aux|grep v2ray"
      ],
      "execution_count": null,
      "outputs": [
        {
          "output_type": "stream",
          "name": "stdout",
          "text": [
            "root        1299  0.0  0.1 4913756 14684 ?       Sl   07:37   0:00 ./v2ray/v2ray -c ./v2ray/bridge_config.json\n",
            "root        1308  0.0  0.0  39196  6432 ?        S    07:37   0:00 /bin/bash -c ps aux|grep v2ray\n",
            "root        1310  0.0  0.0  38572  5640 ?        S    07:37   0:00 grep v2ray\n"
          ]
        }
      ]
    },
    {
      "cell_type": "markdown",
      "metadata": {
        "id": "bV2GQA5YKNBf"
      },
      "source": [
        ""
      ]
    },
    {
      "cell_type": "code",
      "metadata": {
        "id": "EdgrRC098H4U"
      },
      "source": [
        "!cat /content/drive/MyDrive/xxx_home_colab_google/.bbashrc>/root/.bashrc"
      ],
      "execution_count": null,
      "outputs": []
    },
    {
      "cell_type": "code",
      "metadata": {
        "id": "d-vOntIu34PA",
        "colab": {
          "base_uri": "https://localhost:8080/"
        },
        "outputId": "651fb025-2ff9-46a9-abe2-67b6dd7000a5"
      },
      "source": [
        "!apt install vim"
      ],
      "execution_count": null,
      "outputs": [
        {
          "output_type": "stream",
          "name": "stdout",
          "text": [
            "Reading package lists... Done\n",
            "Building dependency tree       \n",
            "Reading state information... Done\n",
            "The following additional packages will be installed:\n",
            "  libgpm2 vim-common vim-runtime xxd\n",
            "Suggested packages:\n",
            "  gpm ctags vim-doc vim-scripts\n",
            "The following NEW packages will be installed:\n",
            "  libgpm2 vim vim-common vim-runtime xxd\n",
            "0 upgraded, 5 newly installed, 0 to remove and 37 not upgraded.\n",
            "Need to get 6,722 kB of archives.\n",
            "After this operation, 32.6 MB of additional disk space will be used.\n",
            "Get:1 http://archive.ubuntu.com/ubuntu bionic-updates/main amd64 xxd amd64 2:8.0.1453-1ubuntu1.4 [49.3 kB]\n",
            "Get:2 http://archive.ubuntu.com/ubuntu bionic-updates/main amd64 vim-common all 2:8.0.1453-1ubuntu1.4 [70.4 kB]\n",
            "Get:3 http://archive.ubuntu.com/ubuntu bionic/main amd64 libgpm2 amd64 1.20.7-5 [15.1 kB]\n",
            "Get:4 http://archive.ubuntu.com/ubuntu bionic-updates/main amd64 vim-runtime all 2:8.0.1453-1ubuntu1.4 [5,435 kB]\n",
            "Get:5 http://archive.ubuntu.com/ubuntu bionic-updates/main amd64 vim amd64 2:8.0.1453-1ubuntu1.4 [1,152 kB]\n",
            "Fetched 6,722 kB in 1s (4,869 kB/s)\n",
            "Selecting previously unselected package xxd.\n",
            "(Reading database ... 158025 files and directories currently installed.)\n",
            "Preparing to unpack .../xxd_2%3a8.0.1453-1ubuntu1.4_amd64.deb ...\n",
            "Unpacking xxd (2:8.0.1453-1ubuntu1.4) ...\n",
            "Selecting previously unselected package vim-common.\n",
            "Preparing to unpack .../vim-common_2%3a8.0.1453-1ubuntu1.4_all.deb ...\n",
            "Unpacking vim-common (2:8.0.1453-1ubuntu1.4) ...\n",
            "Selecting previously unselected package libgpm2:amd64.\n",
            "Preparing to unpack .../libgpm2_1.20.7-5_amd64.deb ...\n",
            "Unpacking libgpm2:amd64 (1.20.7-5) ...\n",
            "Selecting previously unselected package vim-runtime.\n",
            "Preparing to unpack .../vim-runtime_2%3a8.0.1453-1ubuntu1.4_all.deb ...\n",
            "Adding 'diversion of /usr/share/vim/vim80/doc/help.txt to /usr/share/vim/vim80/doc/help.txt.vim-tiny by vim-runtime'\n",
            "Adding 'diversion of /usr/share/vim/vim80/doc/tags to /usr/share/vim/vim80/doc/tags.vim-tiny by vim-runtime'\n",
            "Unpacking vim-runtime (2:8.0.1453-1ubuntu1.4) ...\n",
            "Selecting previously unselected package vim.\n",
            "Preparing to unpack .../vim_2%3a8.0.1453-1ubuntu1.4_amd64.deb ...\n",
            "Unpacking vim (2:8.0.1453-1ubuntu1.4) ...\n",
            "Setting up xxd (2:8.0.1453-1ubuntu1.4) ...\n",
            "Setting up libgpm2:amd64 (1.20.7-5) ...\n",
            "Setting up vim-common (2:8.0.1453-1ubuntu1.4) ...\n",
            "Setting up vim-runtime (2:8.0.1453-1ubuntu1.4) ...\n",
            "Setting up vim (2:8.0.1453-1ubuntu1.4) ...\n",
            "update-alternatives: using /usr/bin/vim.basic to provide /usr/bin/vim (vim) in auto mode\n",
            "update-alternatives: using /usr/bin/vim.basic to provide /usr/bin/vimdiff (vimdiff) in auto mode\n",
            "update-alternatives: using /usr/bin/vim.basic to provide /usr/bin/rvim (rvim) in auto mode\n",
            "update-alternatives: using /usr/bin/vim.basic to provide /usr/bin/rview (rview) in auto mode\n",
            "update-alternatives: using /usr/bin/vim.basic to provide /usr/bin/vi (vi) in auto mode\n",
            "update-alternatives: using /usr/bin/vim.basic to provide /usr/bin/view (view) in auto mode\n",
            "update-alternatives: using /usr/bin/vim.basic to provide /usr/bin/ex (ex) in auto mode\n",
            "update-alternatives: using /usr/bin/vim.basic to provide /usr/bin/editor (editor) in auto mode\n",
            "Processing triggers for man-db (2.8.3-2ubuntu0.1) ...\n",
            "Processing triggers for hicolor-icon-theme (0.17-2) ...\n",
            "Processing triggers for mime-support (3.60ubuntu1) ...\n",
            "Processing triggers for libc-bin (2.27-3ubuntu1.3) ...\n",
            "/sbin/ldconfig.real: /usr/local/lib/python3.7/dist-packages/ideep4py/lib/libmkldnn.so.0 is not a symbolic link\n",
            "\n"
          ]
        }
      ]
    },
    {
      "cell_type": "code",
      "metadata": {
        "id": "icw5PPzfIAAx"
      },
      "source": [
        "!usermod -d /content/drive/MyDrive/xxx_home/ -m root"
      ],
      "execution_count": null,
      "outputs": []
    },
    {
      "cell_type": "code",
      "metadata": {
        "id": "IvczxEjpKoL2"
      },
      "source": [
        "!ps aux|grep root"
      ],
      "execution_count": null,
      "outputs": []
    },
    {
      "cell_type": "code",
      "metadata": {
        "id": "kTB0HXk7N9zc"
      },
      "source": [
        "!vim /etc/passwd"
      ],
      "execution_count": null,
      "outputs": []
    },
    {
      "cell_type": "code",
      "metadata": {
        "id": "Um-eIY3VAIm7"
      },
      "source": [
        "!echo $HOME"
      ],
      "execution_count": null,
      "outputs": []
    },
    {
      "cell_type": "code",
      "metadata": {
        "id": "ue9jrQLb4zOn"
      },
      "source": [
        "!echo \"set noswapfile\">>~/.vimrc"
      ],
      "execution_count": null,
      "outputs": []
    },
    {
      "cell_type": "code",
      "metadata": {
        "id": "X-iz8t5r4p7S"
      },
      "source": [
        "!ls ~/ -a"
      ],
      "execution_count": null,
      "outputs": []
    },
    {
      "cell_type": "code",
      "metadata": {
        "id": "roIiT7_PElru"
      },
      "source": [
        " from subprocess import Popen, PIPE\n",
        "import shlex"
      ],
      "execution_count": null,
      "outputs": []
    },
    {
      "cell_type": "code",
      "metadata": {
        "id": "C-ZpDZtWExRf"
      },
      "source": [
        " Popen(shlex.split('./v2ray -c ./config.json'), stdout=PIPE)"
      ],
      "execution_count": null,
      "outputs": []
    },
    {
      "cell_type": "code",
      "metadata": {
        "id": "B4RHvXR6jLn2"
      },
      "source": [
        " !pip install colab_ssh --upgrade"
      ],
      "execution_count": null,
      "outputs": []
    },
    {
      "cell_type": "code",
      "metadata": {
        "id": "ZYwfSQw-jaCh"
      },
      "source": [
        " from colab_ssh import launch_ssh_cloudflared, init_git_cloudflared"
      ],
      "execution_count": null,
      "outputs": []
    },
    {
      "cell_type": "code",
      "metadata": {
        "id": "wIWk4NDzkUOU"
      },
      "source": [
        " launch_ssh_cloudflared(\"345\")"
      ],
      "execution_count": null,
      "outputs": []
    },
    {
      "cell_type": "code",
      "metadata": {
        "id": "Ww2feDP0mw8Z"
      },
      "source": [
        " function ClickConnect(){\n",
        "    console.log(\"Clicked on connect button\"); \n",
        "    document.querySelector(\"colab-connect-button\").click()\n",
        "}\n",
        "setInterval(ClickConnect,60000)"
      ],
      "execution_count": null,
      "outputs": []
    },
    {
      "cell_type": "code",
      "metadata": {
        "id": "LRWDQrkrExP1"
      },
      "source": [
        " while True:pass"
      ],
      "execution_count": null,
      "outputs": []
    },
    {
      "cell_type": "code",
      "metadata": {
        "id": "qUwm9HSww75b"
      },
      "source": [
        " import time\n",
        "while True:\n",
        "    time.sleep(60)"
      ],
      "execution_count": null,
      "outputs": []
    }
  ]
}